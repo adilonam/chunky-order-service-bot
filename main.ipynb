{
 "cells": [
  {
   "cell_type": "markdown",
   "metadata": {},
   "source": [
    "## Create the table of products and insert data"
   ]
  },
  {
   "cell_type": "code",
   "execution_count": 2,
   "metadata": {},
   "outputs": [
    {
     "name": "stdout",
     "output_type": "stream",
     "text": [
      "Database and table created, data inserted successfully.\n"
     ]
    }
   ],
   "source": [
    "%reset -f\n",
    "\n",
    "import os\n",
    "import json\n",
    "import psycopg2\n",
    "from dotenv import load_dotenv\n",
    "\n",
    "# Load the .env file\n",
    "load_dotenv()\n",
    "\n",
    "# Connect to the PostgreSQL database\n",
    "connection = psycopg2.connect(\n",
    "    dbname=os.getenv('POSTGRES_DB'),\n",
    "    user=os.getenv('POSTGRES_USER'),\n",
    "    password=os.getenv('POSTGRES_PASSWORD'),\n",
    "    host='45.55.41.136',  # Change to 'db' if running in Docker\n",
    "    port='5432'\n",
    ")\n",
    "cursor = connection.cursor()\n",
    "\n",
    "# Create the products table\n",
    "cursor.execute('''\n",
    "CREATE TABLE IF NOT EXISTS products (\n",
    "    code VARCHAR(10) PRIMARY KEY,\n",
    "    name VARCHAR(255) NOT NULL,\n",
    "    price NUMERIC(10, 2) NOT NULL,\n",
    "    type VARCHAR(50) NOT NULL\n",
    ");\n",
    "''')\n",
    "connection.commit()\n",
    "\n",
    "# Load data from data.json\n",
    "with open('data.json', 'r') as f:\n",
    "    items = json.load(f)\n",
    "\n",
    "# Insert data into the products table\n",
    "for item in items:\n",
    "    cursor.execute('''\n",
    "    INSERT INTO products (code, name, price, type) VALUES (%s, %s, %s, %s)\n",
    "    ON CONFLICT (code) DO NOTHING;\n",
    "    ''', (item['code'], item['name'], item['price'], item['type']))\n",
    "connection.commit()\n",
    "\n",
    "# Close the cursor and connection\n",
    "cursor.close()\n",
    "connection.close()\n",
    "\n",
    "print(\"Database and table created, data inserted successfully.\")"
   ]
  },
  {
   "cell_type": "markdown",
   "metadata": {},
   "source": [
    "## Create the SpecialOffers table"
   ]
  },
  {
   "cell_type": "code",
   "execution_count": 3,
   "metadata": {},
   "outputs": [
    {
     "name": "stdout",
     "output_type": "stream",
     "text": [
      "SpecialOffers table created successfully.\n"
     ]
    }
   ],
   "source": [
    "import os\n",
    "import psycopg2\n",
    "from dotenv import load_dotenv\n",
    "\n",
    "# Load the .env file\n",
    "load_dotenv()\n",
    "\n",
    "# Connect to the PostgreSQL database\n",
    "connection = psycopg2.connect(\n",
    "    dbname=os.getenv('POSTGRES_DB'),\n",
    "    user=os.getenv('POSTGRES_USER'),\n",
    "    password=os.getenv('POSTGRES_PASSWORD'),\n",
    "    host='45.55.41.136',  # Change to 'db' if running in Docker\n",
    "    port='5432'\n",
    ")\n",
    "cursor = connection.cursor()\n",
    "\n",
    "# Create the SpecialOffers table\n",
    "cursor.execute('''\n",
    "CREATE TABLE IF NOT EXISTS special_offers (\n",
    "    id SERIAL PRIMARY KEY,\n",
    "    product_code VARCHAR(10) REFERENCES products(code),\n",
    "    quantity INT NOT NULL,\n",
    "    new_price NUMERIC(10, 2) NOT NULL,\n",
    "    UNIQUE (product_code, quantity)\n",
    ");\n",
    "''')\n",
    "connection.commit()\n",
    "\n",
    "# Close the cursor and connection\n",
    "cursor.close()\n",
    "connection.close()\n",
    "\n",
    "print(\"SpecialOffers table created successfully.\")"
   ]
  }
 ],
 "metadata": {
  "kernelspec": {
   "display_name": "chunky-order-service-bot",
   "language": "python",
   "name": "python3"
  },
  "language_info": {
   "codemirror_mode": {
    "name": "ipython",
    "version": 3
   },
   "file_extension": ".py",
   "mimetype": "text/x-python",
   "name": "python",
   "nbconvert_exporter": "python",
   "pygments_lexer": "ipython3",
   "version": "3.8.20"
  }
 },
 "nbformat": 4,
 "nbformat_minor": 2
}
